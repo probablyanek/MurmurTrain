{
  "nbformat": 4,
  "nbformat_minor": 0,
  "metadata": {
    "colab": {
      "provenance": [],
      "gpuType": "T4"
    },
    "kernelspec": {
      "name": "python3",
      "display_name": "Python 3"
    },
    "language_info": {
      "name": "python"
    },
    "accelerator": "GPU"
  },
  "cells": [
    {
      "cell_type": "markdown",
      "source": [],
      "metadata": {
        "id": "mGrEy_AvRcY6"
      }
    },
    {
      "cell_type": "code",
      "source": [
        "from google.colab import drive\n",
        "drive.mount('/content/drive')"
      ],
      "metadata": {
        "id": "zKQdgayTRa9I",
        "colab": {
          "base_uri": "https://localhost:8080/"
        },
        "outputId": "46b3d429-dab5-40e0-d50e-d2ec436e6738"
      },
      "execution_count": 1,
      "outputs": [
        {
          "output_type": "stream",
          "name": "stdout",
          "text": [
            "Drive already mounted at /content/drive; to attempt to forcibly remount, call drive.mount(\"/content/drive\", force_remount=True).\n"
          ]
        }
      ]
    },
    {
      "cell_type": "code",
      "execution_count": 2,
      "metadata": {
        "colab": {
          "base_uri": "https://localhost:8080/"
        },
        "id": "Lg-TEjJvN0bK",
        "outputId": "1aa798a1-ded9-4e10-a410-643053682d37"
      },
      "outputs": [
        {
          "output_type": "stream",
          "name": "stdout",
          "text": [
            "Cloning into 'MurmurTrain'...\n",
            "remote: Enumerating objects: 10449, done.\u001b[K\n",
            "remote: Total 10449 (delta 0), reused 0 (delta 0), pack-reused 10449\u001b[K\n",
            "Receiving objects: 100% (10449/10449), 466.04 MiB | 26.61 MiB/s, done.\n",
            "Resolving deltas: 100% (889/889), done.\n",
            "Updating files: 100% (10455/10455), done.\n",
            "/content/MurmurTrain\n"
          ]
        }
      ],
      "source": [
        "!git clone https://github.com/probablyanek/MurmurTrain.git\n",
        "%cd MurmurTrain"
      ]
    },
    {
      "cell_type": "code",
      "source": [
        "!ls"
      ],
      "metadata": {
        "colab": {
          "base_uri": "https://localhost:8080/"
        },
        "id": "twbycQ2cSZhO",
        "outputId": "9e44cd3d-3c3a-4935-f7af-d4fcd23fbc1a"
      },
      "execution_count": 3,
      "outputs": [
        {
          "output_type": "stream",
          "name": "stdout",
          "text": [
            "cross_validate.py  helper_code.py  models  pretrained_model.h5\trun_model.py  training_data\n",
            "evaluate_model.py  input\t   output  requirements.txt\tteam_code.py  train_model.py\n"
          ]
        }
      ]
    },
    {
      "cell_type": "code",
      "source": [
        "!python train_model.py ./training_data/training_data  \"/content/drive/MyDrive/TrainedModel\""
      ],
      "metadata": {
        "colab": {
          "base_uri": "https://localhost:8080/"
        },
        "id": "VsW3E8kEO4Pa",
        "outputId": "2c533f4a-f25a-490d-b820-b94a3237a571"
      },
      "execution_count": 5,
      "outputs": [
        {
          "output_type": "stream",
          "name": "stdout",
          "text": [
            "2024-04-10 15:04:54.676250: E external/local_xla/xla/stream_executor/cuda/cuda_dnn.cc:9261] Unable to register cuDNN factory: Attempting to register factory for plugin cuDNN when one has already been registered\n",
            "2024-04-10 15:04:54.676321: E external/local_xla/xla/stream_executor/cuda/cuda_fft.cc:607] Unable to register cuFFT factory: Attempting to register factory for plugin cuFFT when one has already been registered\n",
            "2024-04-10 15:04:54.677820: E external/local_xla/xla/stream_executor/cuda/cuda_blas.cc:1515] Unable to register cuBLAS factory: Attempting to register factory for plugin cuBLAS when one has already been registered\n",
            "2024-04-10 15:04:54.686119: I tensorflow/core/platform/cpu_feature_guard.cc:182] This TensorFlow binary is optimized to use available CPU instructions in performance-critical operations.\n",
            "To enable the following instructions: AVX2 FMA, in other operations, rebuild TensorFlow with the appropriate compiler flags.\n",
            "2024-04-10 15:04:55.996444: W tensorflow/compiler/tf2tensorrt/utils/py_utils.cc:38] TF-TRT Warning: Could not find TensorRT\n",
            "Finding data files...\n",
            "Extracting features and labels from the Challenge data...\n",
            "100% 942/942 [00:25<00:00, 37.41it/s]\n",
            "Number of signals = 3163\n",
            "Murmurs prevalence:\n",
            "Present = 616, Unknown = 156, Absent = 2391\n",
            "Outcomes prevalence:\n",
            "Abnormal = 1531, Normal = 1632\n",
            "2024-04-10 15:05:26.029187: W tensorflow/core/framework/dataset.cc:959] Input of GeneratorDatasetOp::Dataset will not be optimized because the dataset does not implement the AsGraphDefInternal() method needed to apply optimizations.\n",
            "Epoch 1/30\n",
            "^C\n"
          ]
        }
      ]
    }
  ]
}