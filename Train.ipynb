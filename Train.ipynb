{
  "nbformat": 4,
  "nbformat_minor": 0,
  "metadata": {
    "colab": {
      "provenance": [],
      "gpuType": "T4"
    },
    "kernelspec": {
      "name": "python3",
      "display_name": "Python 3"
    },
    "language_info": {
      "name": "python"
    },
    "accelerator": "GPU"
  },
  "cells": [
    {
      "cell_type": "code",
      "source": [
        "from google.colab import drive\n",
        "drive.mount('/content/drive')"
      ],
      "metadata": {
        "id": "zKQdgayTRa9I",
        "colab": {
          "base_uri": "https://localhost:8080/"
        },
        "outputId": "7d616812-3baa-44e4-b081-ab66237b15d3"
      },
      "execution_count": 1,
      "outputs": [
        {
          "output_type": "stream",
          "name": "stdout",
          "text": [
            "Mounted at /content/drive\n"
          ]
        }
      ]
    },
    {
      "cell_type": "code",
      "execution_count": 2,
      "metadata": {
        "colab": {
          "base_uri": "https://localhost:8080/"
        },
        "id": "Lg-TEjJvN0bK",
        "outputId": "b9b125a5-49ea-4ffb-b837-a9860e15f7ad"
      },
      "outputs": [
        {
          "output_type": "stream",
          "name": "stdout",
          "text": [
            "Cloning into 'MurmurTrain'...\n",
            "remote: Enumerating objects: 10464, done.\u001b[K\n",
            "remote: Counting objects: 100% (15/15), done.\u001b[K\n",
            "remote: Compressing objects: 100% (13/13), done.\u001b[K\n",
            "remote: Total 10464 (delta 3), reused 10 (delta 2), pack-reused 10449\u001b[K\n",
            "Receiving objects: 100% (10464/10464), 466.06 MiB | 31.01 MiB/s, done.\n",
            "Resolving deltas: 100% (892/892), done.\n",
            "Updating files: 100% (10459/10459), done.\n",
            "/content/MurmurTrain\n"
          ]
        }
      ],
      "source": [
        "!git clone https://github.com/probablyanek/MurmurTrain.git\n",
        "%cd MurmurTrain"
      ]
    },
    {
      "cell_type": "code",
      "source": [
        "!ls"
      ],
      "metadata": {
        "colab": {
          "base_uri": "https://localhost:8080/"
        },
        "id": "twbycQ2cSZhO",
        "outputId": "d3b9aded-2026-4c1c-91fb-29a6491add31"
      },
      "execution_count": 3,
      "outputs": [
        {
          "output_type": "stream",
          "name": "stdout",
          "text": [
            "cross_validate.py  input   pretrained_model.h5\trequirements.txt  training_data\n",
            "evaluate_model.py  models  __pycache__\t\trun_model.py\t  Train.ipynb\n",
            "helper_code.py\t   output  README.md\t\tteam_code.py\t  train_model.py\n"
          ]
        }
      ]
    },
    {
      "cell_type": "code",
      "source": [
        "!python train_model.py ./training_data/training_data  \"/content/drive/MyDrive/TrainedModel\""
      ],
      "metadata": {
        "colab": {
          "base_uri": "https://localhost:8080/"
        },
        "id": "VsW3E8kEO4Pa",
        "outputId": "4aa0b0ca-aeff-4d86-cd04-69e018fd4937"
      },
      "execution_count": 4,
      "outputs": [
        {
          "output_type": "stream",
          "name": "stdout",
          "text": [
            "2024-04-10 15:56:41.178416: E external/local_xla/xla/stream_executor/cuda/cuda_dnn.cc:9261] Unable to register cuDNN factory: Attempting to register factory for plugin cuDNN when one has already been registered\n",
            "2024-04-10 15:56:41.178474: E external/local_xla/xla/stream_executor/cuda/cuda_fft.cc:607] Unable to register cuFFT factory: Attempting to register factory for plugin cuFFT when one has already been registered\n",
            "2024-04-10 15:56:41.180461: E external/local_xla/xla/stream_executor/cuda/cuda_blas.cc:1515] Unable to register cuBLAS factory: Attempting to register factory for plugin cuBLAS when one has already been registered\n",
            "2024-04-10 15:56:41.190059: I tensorflow/core/platform/cpu_feature_guard.cc:182] This TensorFlow binary is optimized to use available CPU instructions in performance-critical operations.\n",
            "To enable the following instructions: AVX2 FMA, in other operations, rebuild TensorFlow with the appropriate compiler flags.\n",
            "2024-04-10 15:56:42.601884: W tensorflow/compiler/tf2tensorrt/utils/py_utils.cc:38] TF-TRT Warning: Could not find TensorRT\n",
            "ARGUMENTS ACCEPTED!!!!!!!!!!!!!!!!!!!!!!!!!!!!!!!!!!!!!\n",
            "100% 942/942 [00:19<00:00, 48.03it/s]\n",
            "Number of signals = 3163\n",
            "Murmurs prevalence:\n",
            "Present = 616, Unknown = 156, Absent = 2391\n",
            "Outcomes prevalence:\n",
            "Abnormal = 1531, Normal = 1632\n",
            "2024-04-10 15:57:03.832930: I external/local_xla/xla/stream_executor/cuda/cuda_executor.cc:901] successful NUMA node read from SysFS had negative value (-1), but there must be at least one NUMA node, so returning NUMA node zero. See more at https://github.com/torvalds/linux/blob/v6.0/Documentation/ABI/testing/sysfs-bus-pci#L344-L355\n",
            "2024-04-10 15:57:04.403416: I external/local_xla/xla/stream_executor/cuda/cuda_executor.cc:901] successful NUMA node read from SysFS had negative value (-1), but there must be at least one NUMA node, so returning NUMA node zero. See more at https://github.com/torvalds/linux/blob/v6.0/Documentation/ABI/testing/sysfs-bus-pci#L344-L355\n",
            "2024-04-10 15:57:04.403708: I external/local_xla/xla/stream_executor/cuda/cuda_executor.cc:901] successful NUMA node read from SysFS had negative value (-1), but there must be at least one NUMA node, so returning NUMA node zero. See more at https://github.com/torvalds/linux/blob/v6.0/Documentation/ABI/testing/sysfs-bus-pci#L344-L355\n",
            "2024-04-10 15:57:04.404846: I external/local_xla/xla/stream_executor/cuda/cuda_executor.cc:901] successful NUMA node read from SysFS had negative value (-1), but there must be at least one NUMA node, so returning NUMA node zero. See more at https://github.com/torvalds/linux/blob/v6.0/Documentation/ABI/testing/sysfs-bus-pci#L344-L355\n",
            "2024-04-10 15:57:04.405124: I external/local_xla/xla/stream_executor/cuda/cuda_executor.cc:901] successful NUMA node read from SysFS had negative value (-1), but there must be at least one NUMA node, so returning NUMA node zero. See more at https://github.com/torvalds/linux/blob/v6.0/Documentation/ABI/testing/sysfs-bus-pci#L344-L355\n",
            "2024-04-10 15:57:04.405325: I external/local_xla/xla/stream_executor/cuda/cuda_executor.cc:901] successful NUMA node read from SysFS had negative value (-1), but there must be at least one NUMA node, so returning NUMA node zero. See more at https://github.com/torvalds/linux/blob/v6.0/Documentation/ABI/testing/sysfs-bus-pci#L344-L355\n",
            "2024-04-10 15:57:04.619572: I external/local_xla/xla/stream_executor/cuda/cuda_executor.cc:901] successful NUMA node read from SysFS had negative value (-1), but there must be at least one NUMA node, so returning NUMA node zero. See more at https://github.com/torvalds/linux/blob/v6.0/Documentation/ABI/testing/sysfs-bus-pci#L344-L355\n",
            "2024-04-10 15:57:04.619963: I external/local_xla/xla/stream_executor/cuda/cuda_executor.cc:901] successful NUMA node read from SysFS had negative value (-1), but there must be at least one NUMA node, so returning NUMA node zero. See more at https://github.com/torvalds/linux/blob/v6.0/Documentation/ABI/testing/sysfs-bus-pci#L344-L355\n",
            "2024-04-10 15:57:04.620140: W tensorflow/core/common_runtime/gpu/gpu_bfc_allocator.cc:47] Overriding orig_value setting because the TF_FORCE_GPU_ALLOW_GROWTH environment variable is set. Original config value was 0.\n",
            "2024-04-10 15:57:04.620276: I external/local_xla/xla/stream_executor/cuda/cuda_executor.cc:901] successful NUMA node read from SysFS had negative value (-1), but there must be at least one NUMA node, so returning NUMA node zero. See more at https://github.com/torvalds/linux/blob/v6.0/Documentation/ABI/testing/sysfs-bus-pci#L344-L355\n",
            "2024-04-10 15:57:04.620451: I tensorflow/core/common_runtime/gpu/gpu_device.cc:1929] Created device /job:localhost/replica:0/task:0/device:GPU:0 with 13949 MB memory:  -> device: 0, name: Tesla T4, pci bus id: 0000:00:04.0, compute capability: 7.5\n",
            "Epoch 1/3\n",
            "2024-04-10 15:57:16.878329: I external/local_xla/xla/stream_executor/cuda/cuda_dnn.cc:454] Loaded cuDNN version 8906\n",
            "2024-04-10 15:57:24.431593: I external/local_xla/xla/service/service.cc:168] XLA service 0x795b00b8e4e0 initialized for platform CUDA (this does not guarantee that XLA will be used). Devices:\n",
            "2024-04-10 15:57:24.431643: I external/local_xla/xla/service/service.cc:176]   StreamExecutor device (0): Tesla T4, Compute Capability 7.5\n",
            "2024-04-10 15:57:24.457957: I tensorflow/compiler/mlir/tensorflow/utils/dump_mlir_util.cc:269] disabling MLIR crash reproducer, set env var `MLIR_CRASH_REPRODUCER_DIRECTORY` to enable.\n",
            "WARNING: All log messages before absl::InitializeLog() is called are written to STDERR\n",
            "I0000 00:00:1712764644.654543    1534 device_compiler.h:186] Compiled cluster using XLA!  This line is logged at most once for the lifetime of the process.\n",
            "159/159 [==============================] - 95s 451ms/step - loss: 1.5877 - categorical_accuracy: 0.2738 - auc_1: 0.5429\n",
            "Epoch 2/3\n",
            "159/159 [==============================] - 73s 458ms/step - loss: 1.5488 - categorical_accuracy: 0.3566 - auc_1: 0.5980\n",
            "Epoch 3/3\n",
            "159/159 [==============================] - 73s 457ms/step - loss: 1.5117 - categorical_accuracy: 0.3626 - auc_1: 0.5946\n",
            "Epoch 1/4\n",
            "159/159 [==============================] - 87s 459ms/step - loss: 0.6676 - binary_accuracy: 0.5334 - auc: 0.5538\n",
            "Epoch 2/4\n",
            "159/159 [==============================] - 73s 456ms/step - loss: 0.6679 - binary_accuracy: 0.5311 - auc: 0.5347\n",
            "Epoch 3/4\n",
            "159/159 [==============================] - 73s 457ms/step - loss: 0.6656 - binary_accuracy: 0.5390 - auc: 0.5618\n",
            "Epoch 4/4\n",
            "159/159 [==============================] - 73s 456ms/step - loss: 0.6669 - binary_accuracy: 0.5406 - auc: 0.5502\n",
            "/usr/local/lib/python3.10/dist-packages/keras/src/engine/training.py:3103: UserWarning: You are saving your model as an HDF5 file via `model.save()`. This file format is considered legacy. We recommend using instead the native Keras format, e.g. `model.save('my_model.keras')`.\n",
            "  saving_api.save_model(\n"
          ]
        }
      ]
    }
  ]
}